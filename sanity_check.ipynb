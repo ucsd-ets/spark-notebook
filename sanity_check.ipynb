{
 "cells": [
  {
   "cell_type": "code",
   "execution_count": null,
   "metadata": {},
   "outputs": [],
   "source": [
    "import os\n",
    "import pyspark\n",
    "from pyspark import SparkContext\n",
    "\n",
    "def get_local_ip():\n",
    "    import socket\n",
    "    s = socket.socket(socket.AF_INET, socket.SOCK_DGRAM)\n",
    "    s.connect((\"8.8.8.8\", 80))\n",
    "    ip = s.getsockname()[0]\n",
    "    s.close()\n",
    "    return ip\n",
    "    \n",
    "os.environ['SPARK_LOCAL_IP']=\"\" #driver_host\n",
    "driver_host = get_local_ip()\n",
    "conf = pyspark.SparkConf()\n",
    "conf.setAppName(\"spark test\")\n",
    "conf.setMaster('spark://spark-master:7077')\n",
    "conf.set(\"spark.blockmanager.port\", \"50002\")\n",
    "conf.set(\"spark.driver.bindAddress\", driver_host)\n",
    "conf.set(\"spark.driver.host\", driver_host)\n",
    "conf.set(\"spark.driver.port\", \"50500\")\n",
    "conf.set(\"spark.cores.max\", \"2\")\n",
    "conf.set(\"spark.executor.memory\", \"512m\")\n",
    "conf.set('spark.authenticate', False)\n",
    "\n",
    "sc = SparkContext(conf=conf)\n",
    "rdd = sc.parallelize([i for i in range(100)])\n",
    "rdd.count()"
   ]
  },
  {
   "cell_type": "code",
   "execution_count": null,
   "metadata": {},
   "outputs": [],
   "source": []
  },
  {
   "cell_type": "code",
   "execution_count": null,
   "metadata": {},
   "outputs": [],
   "source": []
  }
 ],
 "metadata": {
  "language_info": {
   "name": "python"
  },
  "orig_nbformat": 4
 },
 "nbformat": 4,
 "nbformat_minor": 2
}
